{
  "nbformat": 4,
  "nbformat_minor": 0,
  "metadata": {
    "colab": {
      "name": "docker_section.ipynb",
      "provenance": [],
      "authorship_tag": "ABX9TyPnAcohCoBGGou+9LoIjicH",
      "include_colab_link": true
    },
    "kernelspec": {
      "name": "python3",
      "display_name": "Python 3"
    },
    "language_info": {
      "name": "python"
    },
    "accelerator": "GPU"
  },
  "cells": [
    {
      "cell_type": "markdown",
      "metadata": {
        "id": "view-in-github",
        "colab_type": "text"
      },
      "source": [
        "<a href=\"https://colab.research.google.com/github/nourhenesarraj/MLops_tuto/blob/main/docker_section.ipynb\" target=\"_parent\"><img src=\"https://colab.research.google.com/assets/colab-badge.svg\" alt=\"Open In Colab\"/></a>"
      ]
    },
    {
      "cell_type": "code",
      "execution_count": null,
      "metadata": {
        "colab": {
          "base_uri": "https://localhost:8080/"
        },
        "id": "hWf_NmxhFwdF",
        "outputId": "eea91412-18b9-4967-8d84-e7ed4571cb6d"
      },
      "outputs": [
        {
          "output_type": "stream",
          "name": "stdout",
          "text": [
            "Cloning into 'MLOps-Basics'...\n",
            "remote: Enumerating objects: 569, done.\u001b[K\n",
            "remote: Counting objects: 100% (569/569), done.\u001b[K\n",
            "remote: Compressing objects: 100% (371/371), done.\u001b[K\n",
            "remote: Total 569 (delta 324), reused 383 (delta 163), pack-reused 0\u001b[K\n",
            "Receiving objects: 100% (569/569), 19.05 MiB | 21.70 MiB/s, done.\n",
            "Resolving deltas: 100% (324/324), done.\n"
          ]
        }
      ],
      "source": [
        "!git clone https://github.com/graviraja/MLOps-Basics.git\n"
      ]
    },
    {
      "cell_type": "code",
      "source": [
        "!apt-get -qq install docker.io\n"
      ],
      "metadata": {
        "id": "-UAiOWrlGgoa"
      },
      "execution_count": null,
      "outputs": []
    },
    {
      "cell_type": "code",
      "source": [
        "!docker --version\n"
      ],
      "metadata": {
        "colab": {
          "base_uri": "https://localhost:8080/"
        },
        "id": "ny6Cthx1GrS_",
        "outputId": "751b8400-bcdc-4b94-f17b-4966a5349d71"
      },
      "execution_count": null,
      "outputs": [
        {
          "output_type": "stream",
          "name": "stdout",
          "text": [
            "Docker version 20.10.7, build 20.10.7-0ubuntu5~18.04.3\n"
          ]
        }
      ]
    },
    {
      "cell_type": "code",
      "source": [
        "%%shell\n",
        "set -x\n",
        "dockerd -b none --iptables=0 -l warn &\n",
        "for i in $(seq 5); do [ ! -S \"/var/run/docker.sock\" ] && sleep 2 || break; done\n",
        "docker info\n",
        "docker build -t inference:latest /content/MLOps-Basics/week_5_docker\n",
        "kill $(jobs -p)"
      ],
      "metadata": {
        "colab": {
          "base_uri": "https://localhost:8080/"
        },
        "id": "IGuHO3LEGz8n",
        "outputId": "41838e44-d333-4e15-91e9-ae2e89f5fbaa"
      },
      "execution_count": null,
      "outputs": [
        {
          "output_type": "stream",
          "name": "stdout",
          "text": [
            "+ dockerd -b none --iptables=0 -l warn\n",
            "++ seq 5\n",
            "+ for i in $(seq 5)\n",
            "+ '[' '!' -S /var/run/docker.sock ']'\n",
            "+ sleep 2\n",
            "\u001b[33mWARN\u001b[0m[0000] deprecated version : `1`, please switch to version `2` \n",
            "\u001b[33mWARN\u001b[0m[2022-02-16T11:34:05.169298839Z] failed to load plugin io.containerd.snapshotter.v1.devmapper  \u001b[33merror\u001b[0m=\"devmapper not configured\"\n",
            "\u001b[33mWARN\u001b[0m[2022-02-16T11:34:05.169696512Z] could not use snapshotter devmapper in metadata plugin  \u001b[33merror\u001b[0m=\"devmapper not configured\"\n",
            "\u001b[31mERRO\u001b[0m[2022-02-16T11:34:05.207563015Z] failed to mount overlay: invalid argument     \u001b[31mstorage-driver\u001b[0m=overlay2\n",
            "\u001b[31mERRO\u001b[0m[2022-02-16T11:34:05.207761949Z] exec: \"fuse-overlayfs\": executable file not found in $PATH  \u001b[31mstorage-driver\u001b[0m=fuse-overlayfs\n",
            "\u001b[31mERRO\u001b[0m[2022-02-16T11:34:05.211136236Z] AUFS was not found in /proc/filesystems       \u001b[31mstorage-driver\u001b[0m=aufs\n",
            "\u001b[31mERRO\u001b[0m[2022-02-16T11:34:05.223279547Z] failed to mount overlay: invalid argument     \u001b[31mstorage-driver\u001b[0m=overlay\n",
            "\u001b[31mERRO\u001b[0m[2022-02-16T11:34:05.224945199Z] Udev sync is not supported. This will lead to data loss and unexpected behavior. Install a more recent version of libdevmapper or select a different storage driver. For more information, see https://docs.docker.com/engine/reference/commandline/dockerd/#storage-driver-options  \u001b[31mstorage-driver\u001b[0m=devicemapper\n",
            "\u001b[31mERRO\u001b[0m[0000] failed to disable IPv6 forwarding for container's interface all: open /proc/sys/net/ipv6/conf/all/disable_ipv6: read-only file system \n",
            "\u001b[33mWARN\u001b[0m[2022-02-16T11:34:05.402367248Z] Failed to disable IPv6 on all interfaces on network namespace \"/var/run/docker/netns/2c254ee429b3\": reexec to set IPv6 failed: exit status 4 \n",
            "\u001b[31mERRO\u001b[0m[2022-02-16T11:34:05.402633182Z] failed to create osl sandbox while trying to restore sandbox 2c254ee for cleanup: operation not permitted \n",
            "\u001b[31mERRO\u001b[0m[0000] failed to disable IPv6 forwarding for container's interface all: open /proc/sys/net/ipv6/conf/all/disable_ipv6: read-only file system \n",
            "\u001b[33mWARN\u001b[0m[2022-02-16T11:34:05.537744839Z] Failed to disable IPv6 on all interfaces on network namespace \"/var/run/docker/netns/61b8ed75b5d4\": reexec to set IPv6 failed: exit status 4 \n",
            "\u001b[31mERRO\u001b[0m[2022-02-16T11:34:05.537909329Z] failed to create osl sandbox while trying to restore sandbox 61b8ed7 for cleanup: operation not permitted \n",
            "+ for i in $(seq 5)\n",
            "+ '[' '!' -S /var/run/docker.sock ']'\n",
            "+ break\n",
            "+ docker info\n",
            "Client:\n",
            " Context:    default\n",
            " Debug Mode: false\n",
            "\n",
            "Server:\n",
            " Containers: 2\n",
            "  Running: 0\n",
            "  Paused: 0\n",
            "  Stopped: 2\n",
            " Images: 5\n",
            " Server Version: 20.10.7\n",
            " Storage Driver: vfs\n",
            " Logging Driver: json-file\n",
            " Cgroup Driver: cgroupfs\n",
            " Cgroup Version: 2\n",
            " Plugins:\n",
            "  Volume: local\n",
            "  Network: bridge host ipvlan macvlan null overlay\n",
            "  Log: awslogs fluentd gcplogs gelf journald json-file local logentries splunk syslog\n",
            " Swarm: inactive\n",
            " Runtimes: io.containerd.runc.v2 io.containerd.runtime.v1.linux runc\n",
            " Default Runtime: runc\n",
            " Init Binary: docker-init\n",
            " containerd version: \n",
            " runc version: \n",
            " init version: \n",
            " Security Options:\n",
            "  seccomp\n",
            "   Profile: default\n",
            "  cgroupns\n",
            " Kernel Version: 5.4.144+\n",
            " Operating System: Ubuntu 18.04.5 LTS\n",
            " OSType: linux\n",
            " Architecture: x86_64\n",
            " CPUs: 2\n",
            " Total Memory: 12.69GiB\n",
            " Name: f2fac926007d\n",
            " ID: D3YW:MGBV:AOSA:J4IF:X3PX:AFOO:VOZB:2V32:EFVA:J5OT:TAW6:CIQW\n",
            " Docker Root Dir: /var/lib/docker\n",
            " Debug Mode: false\n",
            " Registry: https://index.docker.io/v1/\n",
            " Labels:\n",
            " Experimental: false\n",
            " Insecure Registries:\n",
            "  127.0.0.0/8\n",
            " Live Restore Enabled: false\n",
            "\n",
            "+ docker build -t inference:latest /content/MLOps-Basics/week_5_docker\n",
            "Sending build context to Docker daemon  69.63kB\n",
            "Step 1/9 : FROM huggingface/transformers-pytorch-cpu:latest\n",
            " ---> 7670cd1d25ba\n",
            "Step 2/9 : COPY ./requirements_inference.txt /tmp/\n",
            " ---> 94d82d37eb08\n",
            "Step 3/9 : RUN pip install -r /tmp/requirements_inference.txt\n",
            " ---> Running in cc1eb5d0851d\n",
            "time=\"2022-02-16T11:35:23.149020368Z\" level=info msg=\"starting signal loop\" namespace=moby path=/run/docker/containerd/daemon/io.containerd.runtime.v2.task/moby/cc1eb5d0851ddc86fec9791f0f2dd8f7ba825e1677c5f6846ba0f90c4a2dc332 pid=3400\n",
            "\u001b[33mWARN\u001b[0m[2022-02-16T11:35:23.303283153Z] cleaning up after shim disconnected           \u001b[33mid\u001b[0m=cc1eb5d0851ddc86fec9791f0f2dd8f7ba825e1677c5f6846ba0f90c4a2dc332 \u001b[33mnamespace\u001b[0m=moby\n",
            "\u001b[33mWARN\u001b[0m[2022-02-16T11:35:23.317115173Z] cleanup warnings time=\"2022-02-16T11:35:23Z\" level=info msg=\"starting signal loop\" namespace=moby pid=3420 \n",
            "\u001b[31mERRO\u001b[0m[2022-02-16T11:35:23.318021660Z] copy shim log                                 \u001b[31merror\u001b[0m=\"read /proc/self/fd/11: file already closed\"\n",
            "\u001b[31mERRO\u001b[0m[2022-02-16T11:35:23.325053175Z] stream copy error: reading from a closed fifo \n",
            "\u001b[31mERRO\u001b[0m[2022-02-16T11:35:23.325029397Z] stream copy error: reading from a closed fifo \n",
            "\u001b[31mERRO\u001b[0m[2022-02-16T11:35:23.352505492Z] cc1eb5d0851ddc86fec9791f0f2dd8f7ba825e1677c5f6846ba0f90c4a2dc332 cleanup: failed to delete container from containerd: no such container \n",
            "failed to create shim: OCI runtime create failed: container_linux.go:380: starting container process caused: process_linux.go:385: applying cgroup configuration for process caused: mkdir /sys/fs/cgroup/docker: read-only file system: unknown\n",
            "++ jobs -p\n",
            "+ kill 3265\n"
          ]
        },
        {
          "output_type": "execute_result",
          "data": {
            "text/plain": [
              ""
            ]
          },
          "metadata": {},
          "execution_count": 13
        }
      ]
    }
  ]
}